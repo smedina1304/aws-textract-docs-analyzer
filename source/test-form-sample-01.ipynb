{
    "cells": [
        {
            "cell_type": "markdown",
            "source": [
                "## Teste Analise - Formulário 01"
            ],
            "metadata": {}
        },
        {
            "cell_type": "code",
            "execution_count": 2,
            "source": [
                "# Libs\r\n",
                "import boto3\r\n",
                "import pandas as pd\r\n",
                "import os"
            ],
            "outputs": [],
            "metadata": {}
        },
        {
            "cell_type": "code",
            "execution_count": 3,
            "source": [
                "# Parameters\r\n",
                "ACCESS_KEY=''\r\n",
                "SECRET_KEY=''\r\n"
            ],
            "outputs": [],
            "metadata": {}
        },
        {
            "cell_type": "code",
            "execution_count": 4,
            "source": [
                "os.getenv('AWS_ACCESS_KEY_ID') "
            ],
            "outputs": [],
            "metadata": {}
        },
        {
            "cell_type": "code",
            "execution_count": 5,
            "source": [
                "# Declaração AWS Boto3 Client - Textarct\r\n",
                "client = boto3.client(\r\n",
                "    'textract', \r\n",
                "    region_name='us-west-2', \r\n",
                "    aws_access_key_id=ACCESS_KEY, \r\n",
                "    aws_secret_access_key=SECRET_KEY\r\n",
                ")"
            ],
            "outputs": [],
            "metadata": {}
        },
        {
            "cell_type": "code",
            "execution_count": 7,
            "source": [
                "# Lendo a imagem\r\n",
                "FORM_IMG = '../data/images/form-sample-01/form-01.png'\r\n",
                "\r\n",
                "with open(FORM_IMG, 'rb') as document:\r\n",
                "    img = bytearray(document.read())\r\n",
                "    document.close()"
            ],
            "outputs": [],
            "metadata": {}
        },
        {
            "cell_type": "code",
            "execution_count": 8,
            "source": [
                "# >> Call Amazon Textract\r\n",
                "# response = client.analyze_document(\r\n",
                "#     Document={'Bytes': img},\r\n",
                "#     FeatureTypes=[\"TABLES\", \"FORMS\"]\r\n",
                "# )\r\n",
                "\r\n",
                "response = client.analyze_document(\r\n",
                "    Document={'Bytes': img},\r\n",
                "    FeatureTypes=[\"TABLES\"]\r\n",
                ")"
            ],
            "outputs": [],
            "metadata": {}
        },
        {
            "cell_type": "code",
            "execution_count": null,
            "source": [
                "for item in response[\"Blocks\"]:\r\n",
                "    if item[\"BlockType\"] == \"LINE\":\r\n",
                "        print ('\\033[94m' +  item[\"Text\"] + '\\033[0m')"
            ],
            "outputs": [],
            "metadata": {}
        },
        {
            "cell_type": "code",
            "execution_count": null,
            "source": [
                "for item in response[\"Blocks\"]:\r\n",
                "    if item[\"BlockType\"] == \"TABLE\":\r\n",
                "        print(item['Id'], item['BlockType'])\r\n",
                "        #DisplayBlockInformation(item)"
            ],
            "outputs": [],
            "metadata": {}
        },
        {
            "cell_type": "markdown",
            "source": [
                "## https://github.com/awsdocs/amazon-textract-developer-guide/blob/master/doc_source/analyzing-document-text.md"
            ],
            "metadata": {}
        },
        {
            "cell_type": "code",
            "execution_count": 22,
            "source": [
                "def ShowBoundingBox(draw,box,width,height,boxColor):\r\n",
                "             \r\n",
                "    left = width * box['Left']\r\n",
                "    top = height * box['Top'] \r\n",
                "    draw.rectangle([left,top, left + (width * box['Width']), top +(height * box['Height'])],outline=boxColor)   \r\n",
                "\r\n",
                "def ShowSelectedElement(draw,box,width,height,boxColor):\r\n",
                "             \r\n",
                "    left = width * box['Left']\r\n",
                "    top = height * box['Top'] \r\n",
                "    draw.rectangle([left,top, left + (width * box['Width']), top +(height * box['Height'])],fill=boxColor)  \r\n",
                "\r\n",
                "# Displays information about a block returned by text detection and text analysis\r\n",
                "def DisplayBlockInformation(block):\r\n",
                "    print('Id: {}'.format(block['Id']))\r\n",
                "    if 'Text' in block:\r\n",
                "        print('    Detected: ' + block['Text'])\r\n",
                "    print('    Type: ' + block['BlockType'])\r\n",
                "   \r\n",
                "    if 'Confidence' in block:\r\n",
                "        print('    Confidence: ' + \"{:.2f}\".format(block['Confidence']) + \"%\")\r\n",
                "\r\n",
                "    if block['BlockType'] == 'CELL':\r\n",
                "        print(\"    Cell information\")\r\n",
                "        print(\"        Column:\" + str(block['ColumnIndex']))\r\n",
                "        print(\"        Row:\" + str(block['RowIndex']))\r\n",
                "        print(\"        Column Span:\" + str(block['ColumnSpan']))\r\n",
                "        print(\"        RowSpan:\" + str(block['ColumnSpan']))    \r\n",
                "    \r\n",
                "    if 'Relationships' in block:\r\n",
                "        print('    Relationships: {}'.format(block['Relationships']))\r\n",
                "    print('    Geometry: ')\r\n",
                "    print('        Bounding Box: {}'.format(block['Geometry']['BoundingBox']))\r\n",
                "    print('        Polygon: {}'.format(block['Geometry']['Polygon']))\r\n",
                "    \r\n",
                "    if block['BlockType'] == \"KEY_VALUE_SET\":\r\n",
                "        print ('    Entity Type: ' + block['EntityTypes'][0])\r\n",
                "    \r\n",
                "    if block['BlockType'] == 'SELECTION_ELEMENT':\r\n",
                "        print('    Selection element detected: ', end='')\r\n",
                "\r\n",
                "        if block['SelectionStatus'] =='SELECTED':\r\n",
                "            print('Selected')\r\n",
                "        else:\r\n",
                "            print('Not selected')    \r\n",
                "    \r\n",
                "    if 'Page' in block:\r\n",
                "        print('Page: ' + block['Page'])\r\n",
                "    print()"
            ],
            "outputs": [],
            "metadata": {}
        },
        {
            "cell_type": "markdown",
            "source": [
                "## https://github.com/awsdocs/amazon-textract-developer-guide/blob/master/doc_source/analyzing-document-text.md"
            ],
            "metadata": {}
        },
        {
            "cell_type": "code",
            "execution_count": 11,
            "source": [
                "def map_blocks(blocks, block_type):\r\n",
                "    return {\r\n",
                "        block['Id']: block\r\n",
                "        for block in blocks\r\n",
                "        if block['BlockType'] == block_type\r\n",
                "    }\r\n",
                "\r\n",
                "def get_children_ids(block):\r\n",
                "    for rels in block.get('Relationships', []):\r\n",
                "        if rels['Type'] == 'CHILD':\r\n",
                "            yield from rels['Ids']\r\n"
            ],
            "outputs": [],
            "metadata": {}
        },
        {
            "cell_type": "code",
            "execution_count": 12,
            "source": [
                "\r\n",
                "blocks = response['Blocks']\r\n",
                "tables = map_blocks(blocks, 'TABLE')\r\n",
                "cells = map_blocks(blocks, 'CELL')\r\n",
                "words = map_blocks(blocks, 'WORD')\r\n",
                "selections = map_blocks(blocks, 'SELECTION_ELEMENT')"
            ],
            "outputs": [],
            "metadata": {}
        },
        {
            "cell_type": "code",
            "execution_count": 101,
            "source": [
                "\r\n",
                "dataframes = []\r\n",
                "\r\n",
                "for table in tables.values():\r\n",
                "\r\n",
                "    # Determine all the cells that belong to this table\r\n",
                "    table_cells = [cells[cell_id] for cell_id in get_children_ids(table)]\r\n",
                "\r\n",
                "    # Determine the table's number of rows and columns\r\n",
                "    n_rows = max(cell['RowIndex'] for cell in table_cells)\r\n",
                "    n_cols = max(cell['ColumnIndex'] for cell in table_cells)\r\n",
                "    content = [[None for _ in range(n_cols)] for _ in range(n_rows)]\r\n",
                "\r\n",
                "    # Fill in each cell\r\n",
                "    for cell in table_cells:\r\n",
                "        cell_contents = [\r\n",
                "            words[child_id]['Text']\r\n",
                "            if child_id in words\r\n",
                "            else selections[child_id]['SelectionStatus']\r\n",
                "            for child_id in get_children_ids(cell)\r\n",
                "        ]\r\n",
                "        i = cell['RowIndex'] - 1\r\n",
                "        j = cell['ColumnIndex'] - 1\r\n",
                "        content[i][j] = ' '.join(cell_contents)\r\n",
                "\r\n",
                "    # We assume that the first row corresponds to the column names\r\n",
                "    dataframe = pd.DataFrame(content[1:], columns=content[0])\r\n",
                "    dataframes.append(dataframe)"
            ],
            "outputs": [],
            "metadata": {}
        },
        {
            "cell_type": "code",
            "execution_count": 105,
            "source": [
                "dataframes[1]"
            ],
            "outputs": [
                {
                    "output_type": "execute_result",
                    "data": {
                        "text/plain": [
                            "  N.° Talhão Área Trab. (ha) N.° Veículo/Equip. N.° Implemento H. máq/km  \\\n",
                            "0         25            18.0            TRR0070              -       9,1   \n",
                            "1                                                                          \n",
                            "2                                                                          \n",
                            "3                                                                          \n",
                            "4                                                                          \n",
                            "5                                                                          \n",
                            "6      Total             180                             Total        91   \n",
                            "\n",
                            "  Matrícula Operador  \n",
                            "0            1800011  \n",
                            "1                     \n",
                            "2                     \n",
                            "3                     \n",
                            "4                     \n",
                            "5                     \n",
                            "6                     "
                        ],
                        "text/html": [
                            "<div>\n",
                            "<style scoped>\n",
                            "    .dataframe tbody tr th:only-of-type {\n",
                            "        vertical-align: middle;\n",
                            "    }\n",
                            "\n",
                            "    .dataframe tbody tr th {\n",
                            "        vertical-align: top;\n",
                            "    }\n",
                            "\n",
                            "    .dataframe thead th {\n",
                            "        text-align: right;\n",
                            "    }\n",
                            "</style>\n",
                            "<table border=\"1\" class=\"dataframe\">\n",
                            "  <thead>\n",
                            "    <tr style=\"text-align: right;\">\n",
                            "      <th></th>\n",
                            "      <th>N.° Talhão</th>\n",
                            "      <th>Área Trab. (ha)</th>\n",
                            "      <th>N.° Veículo/Equip.</th>\n",
                            "      <th>N.° Implemento</th>\n",
                            "      <th>H. máq/km</th>\n",
                            "      <th>Matrícula Operador</th>\n",
                            "    </tr>\n",
                            "  </thead>\n",
                            "  <tbody>\n",
                            "    <tr>\n",
                            "      <th>0</th>\n",
                            "      <td>25</td>\n",
                            "      <td>18.0</td>\n",
                            "      <td>TRR0070</td>\n",
                            "      <td>-</td>\n",
                            "      <td>9,1</td>\n",
                            "      <td>1800011</td>\n",
                            "    </tr>\n",
                            "    <tr>\n",
                            "      <th>1</th>\n",
                            "      <td></td>\n",
                            "      <td></td>\n",
                            "      <td></td>\n",
                            "      <td></td>\n",
                            "      <td></td>\n",
                            "      <td></td>\n",
                            "    </tr>\n",
                            "    <tr>\n",
                            "      <th>2</th>\n",
                            "      <td></td>\n",
                            "      <td></td>\n",
                            "      <td></td>\n",
                            "      <td></td>\n",
                            "      <td></td>\n",
                            "      <td></td>\n",
                            "    </tr>\n",
                            "    <tr>\n",
                            "      <th>3</th>\n",
                            "      <td></td>\n",
                            "      <td></td>\n",
                            "      <td></td>\n",
                            "      <td></td>\n",
                            "      <td></td>\n",
                            "      <td></td>\n",
                            "    </tr>\n",
                            "    <tr>\n",
                            "      <th>4</th>\n",
                            "      <td></td>\n",
                            "      <td></td>\n",
                            "      <td></td>\n",
                            "      <td></td>\n",
                            "      <td></td>\n",
                            "      <td></td>\n",
                            "    </tr>\n",
                            "    <tr>\n",
                            "      <th>5</th>\n",
                            "      <td></td>\n",
                            "      <td></td>\n",
                            "      <td></td>\n",
                            "      <td></td>\n",
                            "      <td></td>\n",
                            "      <td></td>\n",
                            "    </tr>\n",
                            "    <tr>\n",
                            "      <th>6</th>\n",
                            "      <td>Total</td>\n",
                            "      <td>180</td>\n",
                            "      <td></td>\n",
                            "      <td>Total</td>\n",
                            "      <td>91</td>\n",
                            "      <td></td>\n",
                            "    </tr>\n",
                            "  </tbody>\n",
                            "</table>\n",
                            "</div>"
                        ]
                    },
                    "metadata": {},
                    "execution_count": 105
                }
            ],
            "metadata": {}
        },
        {
            "cell_type": "markdown",
            "source": [
                "## Key-values"
            ],
            "metadata": {}
        },
        {
            "cell_type": "code",
            "execution_count": 88,
            "source": [
                "def get_kv_map(response):\r\n",
                "\r\n",
                "    # Get the text blocks\r\n",
                "    blocks=response['Blocks']\r\n",
                "\r\n",
                "    # get key and value maps\r\n",
                "    key_map = {}\r\n",
                "    value_map = {}\r\n",
                "    block_map = {}\r\n",
                "    for block in blocks:\r\n",
                "        block_id = block['Id']\r\n",
                "        block_map[block_id] = block\r\n",
                "        if block['BlockType'] == \"KEY_VALUE_SET\":\r\n",
                "            if 'KEY' in block['EntityTypes']:\r\n",
                "                key_map[block_id] = block\r\n",
                "            else:\r\n",
                "                value_map[block_id] = block\r\n",
                "\r\n",
                "    return key_map, value_map, block_map\r\n",
                "\r\n",
                "\r\n",
                "def get_kv_relationship(key_map, value_map, block_map):\r\n",
                "    kvs = {}\r\n",
                "    for block_id, key_block in key_map.items():\r\n",
                "        value_block = find_value_block(key_block, value_map)\r\n",
                "        key = get_text(key_block, block_map)\r\n",
                "        val = get_text(value_block, block_map)\r\n",
                "        kvs[key] = val\r\n",
                "    return kvs\r\n",
                "\r\n",
                "\r\n",
                "def find_value_block(key_block, value_map):\r\n",
                "    for relationship in key_block['Relationships']:\r\n",
                "        if relationship['Type'] == 'VALUE':\r\n",
                "            for value_id in relationship['Ids']:\r\n",
                "                value_block = value_map[value_id]\r\n",
                "    return value_block\r\n",
                "\r\n",
                "\r\n",
                "def get_text(result, blocks_map):\r\n",
                "    text = ''\r\n",
                "    if 'Relationships' in result:\r\n",
                "        for relationship in result['Relationships']:\r\n",
                "            if relationship['Type'] == 'CHILD':\r\n",
                "                for child_id in relationship['Ids']:\r\n",
                "                    word = blocks_map[child_id]\r\n",
                "                    if word['BlockType'] == 'WORD':\r\n",
                "                        text += word['Text'] + ' '\r\n",
                "                    if word['BlockType'] == 'SELECTION_ELEMENT':\r\n",
                "                        if word['SelectionStatus'] == 'SELECTED':\r\n",
                "                            text += 'X'    \r\n",
                "\r\n",
                "                                \r\n",
                "    return text"
            ],
            "outputs": [],
            "metadata": {}
        },
        {
            "cell_type": "code",
            "execution_count": 89,
            "source": [
                "key_map, value_map, block_map = get_kv_map(response)"
            ],
            "outputs": [],
            "metadata": {}
        },
        {
            "cell_type": "code",
            "execution_count": 90,
            "source": [
                "kvs = get_kv_relationship(key_map, value_map, block_map)"
            ],
            "outputs": [],
            "metadata": {}
        },
        {
            "cell_type": "code",
            "execution_count": 91,
            "source": [
                "kvs"
            ],
            "outputs": [
                {
                    "output_type": "execute_result",
                    "data": {
                        "text/plain": [
                            "{'Implantação ': '',\n",
                            " 'Manutenção ': '',\n",
                            " 'Reforma ': 'X',\n",
                            " 'Empreiteira: ': 'minos L. 605 ',\n",
                            " '': '20,03.21 ',\n",
                            " 'Projeto: ': '110 ',\n",
                            " 'Feitor: ': 'Jose-upby ',\n",
                            " 'Manual ': '',\n",
                            " 'Diária ': '',\n",
                            " 'Mat.: ': '',\n",
                            " 'Mecânica ': 'X',\n",
                            " 'Empreitada ': 'X',\n",
                            " 'Outros Serviços ': '',\n",
                            " 'Engenheiro: ': '',\n",
                            " 'Fazenda: ': 'centerario ',\n",
                            " 'Total ': '',\n",
                            " 'N.° ': '',\n",
                            " 'N.° de Diárias: ': '1 ',\n",
                            " 'APONTAMENTO DIÁRIO DA OPERAÇÃO DE ': 'Remocto inconicods De Copers-156arn ',\n",
                            " 'N.° de pessoas: ': '1 ',\n",
                            " 'Enc. Fazenda: ': '',\n",
                            " 'Horário Trabalhado: de ': '7 às 11 ',\n",
                            " 'Chapa de Funcionários: ': '1800011 ',\n",
                            " 'Observações: ': '',\n",
                            " '1³Via-Assessoria-BH - 2 Via - Fazenda ': ''}"
                        ]
                    },
                    "metadata": {},
                    "execution_count": 91
                }
            ],
            "metadata": {}
        }
    ],
    "metadata": {
        "orig_nbformat": 4,
        "language_info": {
            "name": "python",
            "version": "3.9.6",
            "mimetype": "text/x-python",
            "codemirror_mode": {
                "name": "ipython",
                "version": 3
            },
            "pygments_lexer": "ipython3",
            "nbconvert_exporter": "python",
            "file_extension": ".py"
        },
        "kernelspec": {
            "name": "python3",
            "display_name": "Python 3.9.6 64-bit ('venv': venv)"
        },
        "interpreter": {
            "hash": "0f14bc18b51c717bb33a70dad1d9a98a583ee150a09dca5bfe3c42d9aa7db516"
        }
    },
    "nbformat": 4,
    "nbformat_minor": 2
}